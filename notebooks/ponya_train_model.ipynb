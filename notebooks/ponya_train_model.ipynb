import tensorflow as tf
import numpy as np
import cv2
import os
import matplotlib.pyplot as plt
from tensorflow.keras.preprocessing import image

# Definining dataset path
DATASET_PATH = "dataset/"
CATEGORIES = ["benign", "malignant"]

# Function to count images in each category
def count_images():
    counts = {}
    for category in CATEGORIES:
        path = os.path.join(DATASET_PATH, category)
        counts[category] = len(os.listdir(path)) if os.path.exists(path) else 0
    return counts

# Function to visualize sample images
def visualize_samples():
    fig, axes = plt.subplots(1, len(CATEGORIES), figsize=(10, 5))
    for i, category in enumerate(CATEGORIES):
        path = os.path.join(DATASET_PATH, category)
        if os.path.exists(path) and len(os.listdir(path)) > 0:
            img_path = os.path.join(path, os.listdir(path)[0])
            img = image.load_img(img_path, target_size=(224, 224))
            axes[i].imshow(img)
            axes[i].set_title(category)
            axes[i].axis("off")
    plt.show()

# Function to preprocess image
def preprocess_image(img_path):
    img = image.load_img(img_path, target_size=(224, 224))
    img_array = image.img_to_array(img)
    img_array = np.expand_dims(img_array, axis=0)
    img_array /= 255.0  # Normalize
    return img_array

# Function to predict skin cancer
def predict_skin_cancer(img_path, model):
    processed_img = preprocess_image(img_path)
    prediction = model.predict(processed_img)
    class_labels = CATEGORIES
    result = class_labels[np.argmax(prediction)]
    confidence = np.max(prediction) * 100
    return result, confidence

# Analyze dataset
if __name__ == "__main__":
    counts = count_images()
    print("Image Counts:", counts)
    visualize_samples()
